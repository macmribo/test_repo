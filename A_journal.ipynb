{
 "cells": [
  {
   "cell_type": "markdown",
   "id": "b117c355-c2c5-4374-93dc-85df0d778907",
   "metadata": {},
   "source": [
    "# This is a journal"
   ]
  },
  {
   "cell_type": "code",
   "execution_count": 2,
   "id": "1608ac32-a45b-447d-8ccc-cb781db05258",
   "metadata": {},
   "outputs": [],
   "source": [
    "import pandas as pd\n",
    "import numpy as np"
   ]
  },
  {
   "cell_type": "code",
   "execution_count": 3,
   "id": "8b3b4d43-4b23-4425-983f-ef7ad28b9198",
   "metadata": {},
   "outputs": [],
   "source": [
    "x = np.array([[1,2],[3,4]])"
   ]
  },
  {
   "cell_type": "code",
   "execution_count": 4,
   "id": "dec93ac7-730b-42fc-ada8-879cfe9ddb6a",
   "metadata": {},
   "outputs": [
    {
     "data": {
      "text/plain": [
       "array([[1, 2],\n",
       "       [3, 4]])"
      ]
     },
     "execution_count": 4,
     "metadata": {},
     "output_type": "execute_result"
    }
   ],
   "source": [
    "x"
   ]
  },
  {
   "cell_type": "code",
   "execution_count": null,
   "id": "32b1b5d0-56cc-4c6a-9391-e46faa4c1fad",
   "metadata": {},
   "outputs": [],
   "source": []
  }
 ],
 "metadata": {
  "kernelspec": {
   "display_name": "Python 3 (ipykernel)",
   "language": "python",
   "name": "python3"
  },
  "language_info": {
   "codemirror_mode": {
    "name": "ipython",
    "version": 3
   },
   "file_extension": ".py",
   "mimetype": "text/x-python",
   "name": "python",
   "nbconvert_exporter": "python",
   "pygments_lexer": "ipython3",
   "version": "3.9.12"
  },
  "vscode": {
   "interpreter": {
    "hash": "822576fc5ed668912aad88108aeb43eea0b3075336ab283741dff942ddfcc6ec"
   }
  }
 },
 "nbformat": 4,
 "nbformat_minor": 5
}
