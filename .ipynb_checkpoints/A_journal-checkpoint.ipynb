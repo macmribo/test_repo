{
 "cells": [
  {
   "cell_type": "markdown",
   "id": "b117c355-c2c5-4374-93dc-85df0d778907",
   "metadata": {},
   "source": [
    "# This is a journal"
   ]
  },
  {
   "cell_type": "code",
   "execution_count": null,
   "id": "1608ac32-a45b-447d-8ccc-cb781db05258",
   "metadata": {},
   "outputs": [],
   "source": [
    "import pandas as pd"
   ]
  },
  {
   "cell_type": "code",
   "execution_count": null,
   "id": "8b3b4d43-4b23-4425-983f-ef7ad28b9198",
   "metadata": {},
   "outputs": [],
   "source": []
  }
 ],
 "metadata": {
  "kernelspec": {
   "display_name": "Python 3 (ipykernel)",
   "language": "python",
   "name": "python3"
  },
  "language_info": {
   "codemirror_mode": {
    "name": "ipython",
    "version": 3
   },
   "file_extension": ".py",
   "mimetype": "text/x-python",
   "name": "python",
   "nbconvert_exporter": "python",
   "pygments_lexer": "ipython3",
   "version": "3.9.12"
  }
 },
 "nbformat": 4,
 "nbformat_minor": 5
}
